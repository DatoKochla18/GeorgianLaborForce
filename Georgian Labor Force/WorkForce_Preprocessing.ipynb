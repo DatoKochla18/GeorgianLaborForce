{
  "nbformat": 4,
  "nbformat_minor": 0,
  "metadata": {
    "colab": {
      "provenance": []
    },
    "kernelspec": {
      "name": "python3",
      "display_name": "Python 3"
    },
    "language_info": {
      "name": "python"
    }
  },
  "cells": [
    {
      "cell_type": "code",
      "execution_count": 1,
      "metadata": {
        "colab": {
          "base_uri": "https://localhost:8080/"
        },
        "id": "mizDbNYZI3KD",
        "outputId": "c0568a3e-7e8b-4a54-d254-35a985e17d3a"
      },
      "outputs": [
        {
          "output_type": "stream",
          "name": "stdout",
          "text": [
            "Requirement already satisfied: pyreadstat in /usr/local/lib/python3.10/dist-packages (1.2.5)\n",
            "Requirement already satisfied: pandas>=1.2.0 in /usr/local/lib/python3.10/dist-packages (from pyreadstat) (1.5.3)\n",
            "Requirement already satisfied: python-dateutil>=2.8.1 in /usr/local/lib/python3.10/dist-packages (from pandas>=1.2.0->pyreadstat) (2.8.2)\n",
            "Requirement already satisfied: pytz>=2020.1 in /usr/local/lib/python3.10/dist-packages (from pandas>=1.2.0->pyreadstat) (2023.3.post1)\n",
            "Requirement already satisfied: numpy>=1.21.0 in /usr/local/lib/python3.10/dist-packages (from pandas>=1.2.0->pyreadstat) (1.23.5)\n",
            "Requirement already satisfied: six>=1.5 in /usr/local/lib/python3.10/dist-packages (from python-dateutil>=2.8.1->pandas>=1.2.0->pyreadstat) (1.16.0)\n"
          ]
        }
      ],
      "source": [
        "!pip install pyreadstat\n",
        "import pandas as pd\n",
        "\n",
        "# Load sav file\n",
        "sav_file = \"/content/LFS_ECSTAT_GEO_2020.sav\"\n",
        "data = pd.read_spss(sav_file,convert_categoricals=False)"
      ]
    },
    {
      "cell_type": "code",
      "source": [
        "data['ID']= data['UID']+data['DiaryID']+data['MemberNo']"
      ],
      "metadata": {
        "id": "EyF1zwG6UV1y"
      },
      "execution_count": 2,
      "outputs": []
    },
    {
      "cell_type": "code",
      "source": [
        "data['merged_Transport'] = data[['B36_1_Type_of_transport',\t'B36_2_Type_of_transport',\t'B36_3_Type_of_transport',\t'B36_4_Type_of_transport',\t'B36_5_Type_of_transport',\t'B36_6_Type_of_transport'\t,'B36_97_Type_of_transport',\t'B36_99_Type_of_transport']].apply(\n",
        "    lambda x: ','.join(x.dropna().astype(str)),\n",
        "    axis=1)\n",
        "\n",
        "# Create a list from values in each cell\n",
        "data['transport_id']= data['merged_Transport'].str.split(',')\n",
        "\n",
        "# Expand list values across rows while duplicating index values\n",
        "data = data.explode('transport_id')"
      ],
      "metadata": {
        "id": "M3CHAgwf3cwh"
      },
      "execution_count": 3,
      "outputs": []
    },
    {
      "cell_type": "code",
      "source": [
        "data['merged_findwork'] = data[['G3_1_Methods_used_to_find_work',\t'G3_2_Methods_used_to_find_work'\t,'G3_3_Methods_used_to_find_work',\t'G3_4_Methods_used_to_find_work',\t'G3_5_Methods_used_to_find_work',\t'G3_6_Methods_used_to_find_work',\t'G3_7_Methods_used_to_find_work',\t'G3_8_Methods_used_to_find_work',\t'G3_9_Methods_used_to_find_work',\t'G3_10_Methods_used_to_find_work',\t'G3_11_Methods_used_to_find_work',\t'G3_97_Methods_used_to_find_work']].apply(\n",
        "    lambda x: ','.join(x.dropna().astype(str)),\n",
        "    axis=1)\n",
        "# Create a list from values in each cell\n",
        "data['findwork_id']= data['merged_findwork'].str.split(',')\n",
        "\n",
        "# Expand list values across rows while duplicating index values\n",
        "data = data.explode('findwork_id')\n"
      ],
      "metadata": {
        "id": "fZ0bptVcUijy"
      },
      "execution_count": 4,
      "outputs": []
    },
    {
      "cell_type": "code",
      "source": [
        "data['merged_income'] = data[['H2_1_Income_sources'\t,'H2_2_Income_sources'\t,'H2_3_Income_sources'\t,'H2_4_Income_sources'\t,'H2_5_Income_sources'\t,'H2_6_Income_sources',\t'H2_7_Income_sources'\t,'H2_8_Income_sources'\t,'H2_97_Income_sources',\t'H2_88_Income_sources']].apply(\n",
        "    lambda x: ','.join(x.dropna().astype(str)),\n",
        "    axis=1)\n",
        "# Create a list from values in each cell\n",
        "data['income_id']= data['merged_income'].str.split(',')\n",
        "\n",
        "# Expand list values across rows while duplicating index values\n",
        "data = data.explode('income_id')"
      ],
      "metadata": {
        "id": "gEpHQ2HCUjfx"
      },
      "execution_count": 5,
      "outputs": []
    },
    {
      "cell_type": "code",
      "source": [
        "import numpy as np\n",
        "for i in ['OutsidetheLabourForce_disabled',\t'OutsidetheLabourForce_emp_agency',\t'OutsidetheLabourForce_pensioner'\t,'OutsidetheLabourForce_student'\t,'OutsidetheLabourForce_homemaker',\t'OutsidetheLabourForce_discourage',\t'OutsidetheLabourForce_other',\t'OutsidetheLabourForce_unwillingness'\t]:\n",
        "  data[i].replace(0,np.nan,inplace=True)"
      ],
      "metadata": {
        "id": "K02m7ksxUtcl"
      },
      "execution_count": 6,
      "outputs": []
    },
    {
      "cell_type": "code",
      "source": [
        "data['OutsidetheLabourForce_disabled'][data.OutsidetheLabourForce_disabled==1.0]='შშმ პირი'\n",
        "data['OutsidetheLabourForce_emp_agency'][data.OutsidetheLabourForce_emp_agency==1.0]='მუშათა აგენტი'\n",
        "data['OutsidetheLabourForce_pensioner'][data.OutsidetheLabourForce_pensioner==1.0]='პენსიონერი'\n",
        "data['OutsidetheLabourForce_student'][data.OutsidetheLabourForce_student==1.0]='სტუდენტი'\n",
        "data['OutsidetheLabourForce_homemaker'][data.OutsidetheLabourForce_homemaker==1.0]='დიასახლისი'\n",
        "data['OutsidetheLabourForce_discourage'][data.OutsidetheLabourForce_discourage==1.0]='უიმედო'\n",
        "data['OutsidetheLabourForce_other'][data.OutsidetheLabourForce_other==1.0]='სხვა'\n",
        "data['OutsidetheLabourForce_unwillingness'][data.OutsidetheLabourForce_unwillingness==1.0]='ურწმუნო'\n",
        "\n",
        "\n",
        "data['merged_outforce'] = data[['OutsidetheLabourForce_disabled',\t'OutsidetheLabourForce_emp_agency',\t'OutsidetheLabourForce_pensioner'\t,'OutsidetheLabourForce_student'\t,'OutsidetheLabourForce_homemaker',\t'OutsidetheLabourForce_discourage',\t'OutsidetheLabourForce_other',\t'OutsidetheLabourForce_unwillingness'\t]].apply(\n",
        "    lambda x: ','.join(x.dropna().astype(str)),\n",
        "    axis=1)\n",
        "\n",
        "# Create a list from values in each cell\n",
        "data['outforce_id']= data['merged_outforce'].str.split(',')"
      ],
      "metadata": {
        "colab": {
          "base_uri": "https://localhost:8080/"
        },
        "id": "uTMxfZV3Ut_p",
        "outputId": "dfcbc0c4-be15-4cac-80be-713d947088f7"
      },
      "execution_count": 7,
      "outputs": [
        {
          "output_type": "stream",
          "name": "stderr",
          "text": [
            "<ipython-input-7-9e07eacae616>:1: SettingWithCopyWarning: \n",
            "A value is trying to be set on a copy of a slice from a DataFrame\n",
            "\n",
            "See the caveats in the documentation: https://pandas.pydata.org/pandas-docs/stable/user_guide/indexing.html#returning-a-view-versus-a-copy\n",
            "  data['OutsidetheLabourForce_disabled'][data.OutsidetheLabourForce_disabled==1.0]='შშმ პირი'\n",
            "<ipython-input-7-9e07eacae616>:2: SettingWithCopyWarning: \n",
            "A value is trying to be set on a copy of a slice from a DataFrame\n",
            "\n",
            "See the caveats in the documentation: https://pandas.pydata.org/pandas-docs/stable/user_guide/indexing.html#returning-a-view-versus-a-copy\n",
            "  data['OutsidetheLabourForce_emp_agency'][data.OutsidetheLabourForce_emp_agency==1.0]='მუშათა აგენტი'\n",
            "<ipython-input-7-9e07eacae616>:3: SettingWithCopyWarning: \n",
            "A value is trying to be set on a copy of a slice from a DataFrame\n",
            "\n",
            "See the caveats in the documentation: https://pandas.pydata.org/pandas-docs/stable/user_guide/indexing.html#returning-a-view-versus-a-copy\n",
            "  data['OutsidetheLabourForce_pensioner'][data.OutsidetheLabourForce_pensioner==1.0]='პენსიონერი'\n",
            "<ipython-input-7-9e07eacae616>:4: SettingWithCopyWarning: \n",
            "A value is trying to be set on a copy of a slice from a DataFrame\n",
            "\n",
            "See the caveats in the documentation: https://pandas.pydata.org/pandas-docs/stable/user_guide/indexing.html#returning-a-view-versus-a-copy\n",
            "  data['OutsidetheLabourForce_student'][data.OutsidetheLabourForce_student==1.0]='სტუდენტი'\n",
            "<ipython-input-7-9e07eacae616>:5: SettingWithCopyWarning: \n",
            "A value is trying to be set on a copy of a slice from a DataFrame\n",
            "\n",
            "See the caveats in the documentation: https://pandas.pydata.org/pandas-docs/stable/user_guide/indexing.html#returning-a-view-versus-a-copy\n",
            "  data['OutsidetheLabourForce_homemaker'][data.OutsidetheLabourForce_homemaker==1.0]='დიასახლისი'\n",
            "<ipython-input-7-9e07eacae616>:6: SettingWithCopyWarning: \n",
            "A value is trying to be set on a copy of a slice from a DataFrame\n",
            "\n",
            "See the caveats in the documentation: https://pandas.pydata.org/pandas-docs/stable/user_guide/indexing.html#returning-a-view-versus-a-copy\n",
            "  data['OutsidetheLabourForce_discourage'][data.OutsidetheLabourForce_discourage==1.0]='უიმედო'\n",
            "<ipython-input-7-9e07eacae616>:7: SettingWithCopyWarning: \n",
            "A value is trying to be set on a copy of a slice from a DataFrame\n",
            "\n",
            "See the caveats in the documentation: https://pandas.pydata.org/pandas-docs/stable/user_guide/indexing.html#returning-a-view-versus-a-copy\n",
            "  data['OutsidetheLabourForce_other'][data.OutsidetheLabourForce_other==1.0]='სხვა'\n",
            "<ipython-input-7-9e07eacae616>:8: SettingWithCopyWarning: \n",
            "A value is trying to be set on a copy of a slice from a DataFrame\n",
            "\n",
            "See the caveats in the documentation: https://pandas.pydata.org/pandas-docs/stable/user_guide/indexing.html#returning-a-view-versus-a-copy\n",
            "  data['OutsidetheLabourForce_unwillingness'][data.OutsidetheLabourForce_unwillingness==1.0]='ურწმუნო'\n"
          ]
        }
      ]
    },
    {
      "cell_type": "code",
      "source": [
        "# Expand list values across rows while duplicating index values\n",
        "data = data.explode('outforce_id')\n",
        "\n",
        "csv_file = \"survey_data1.csv\"\n",
        "data.to_csv(csv_file, index=False)\n",
        "print(\"CSV file saved to: {}\".format(csv_file))\n"
      ],
      "metadata": {
        "colab": {
          "base_uri": "https://localhost:8080/"
        },
        "id": "f3jCqum-U3A6",
        "outputId": "03639314-2bca-4728-ef11-f7758e17ad6b"
      },
      "execution_count": 8,
      "outputs": [
        {
          "output_type": "stream",
          "name": "stdout",
          "text": [
            "CSV file saved to: survey_data1.csv\n"
          ]
        }
      ]
    }
  ]
}